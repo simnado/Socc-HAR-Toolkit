{
 "cells": [
  {
   "cell_type": "code",
   "execution_count": 1,
   "metadata": {
    "collapsed": true
   },
   "outputs": [],
   "source": [
    "import pandas as pd\n",
    "r2plus1_df = pd.read_csv('./verifications/transactions_R2Plus1D_34_48T_12fps (1).csv')\n",
    "slowfast_df = pd.read_csv('./verifications/transactions_SlowFast4x16_50_32T_12fps.csv')\n",
    "csn_df = pd.read_csv('./verifications/transactions_irCSN_152_32T_8fps.csv')"
   ]
  },
  {
   "cell_type": "code",
   "execution_count": 21,
   "outputs": [
    {
     "data": {
      "text/plain": "    Unnamed: 0   period_id                                                url  \\\n0            0     70287@2  https://raw.githubusercontent.com/statsbomb/op...   \n1            1     70287@2  https://raw.githubusercontent.com/statsbomb/op...   \n2            2     70287@2  https://raw.githubusercontent.com/statsbomb/op...   \n3            3     70287@2  https://raw.githubusercontent.com/statsbomb/op...   \n4            4     19791@2  https://raw.githubusercontent.com/statsbomb/op...   \n..         ...         ...                                                ...   \n70          70    265857@2                                                NaN   \n71          71     16131@2  https://raw.githubusercontent.com/statsbomb/op...   \n72          72  zet5dC15@1  https://raw.githubusercontent.com/statsbomb/op...   \n73          73  zet5dC15@1  https://raw.githubusercontent.com/statsbomb/op...   \n74          74  zet5dC15@1  https://raw.githubusercontent.com/statsbomb/op...   \n\n       src_label                         src_segment dest_label  \\\n0          cross              [2454.7682, 2456.7682]        NaN   \n1           goal                        [2457, 2459]       goal   \n2       footShot  [2455.5869076, 2457.5869076000004]   footShot   \n3       dribbled                    [2453.2, 2455.2]        NaN   \n4       backheel     [7599.63255, 7601.632549999999]   backheel   \n..           ...                                 ...        ...   \n70           NaN                                 NaN       save   \n71      footShot          [5772.357416, 5774.357416]   footShot   \n72   badBehavior                    [2889.4, 2891.4]        NaN   \n73          card                        [2892, 2894]        NaN   \n74  finalWhistle                        [2894, 2896]        NaN   \n\n        dest_segment operation  \n0                NaN    delete  \n1   [2452.0, 2454.0]      edit  \n2   [2452.0, 2453.7]      edit  \n3                NaN    delete  \n4   [7599.6, 7601.1]      edit  \n..               ...       ...  \n70  [4163.0, 4165.0]       add  \n71  [5774.0, 5776.0]      edit  \n72               NaN    delete  \n73               NaN    delete  \n74               NaN    delete  \n\n[267 rows x 8 columns]",
      "text/html": "<div>\n<style scoped>\n    .dataframe tbody tr th:only-of-type {\n        vertical-align: middle;\n    }\n\n    .dataframe tbody tr th {\n        vertical-align: top;\n    }\n\n    .dataframe thead th {\n        text-align: right;\n    }\n</style>\n<table border=\"1\" class=\"dataframe\">\n  <thead>\n    <tr style=\"text-align: right;\">\n      <th></th>\n      <th>Unnamed: 0</th>\n      <th>period_id</th>\n      <th>url</th>\n      <th>src_label</th>\n      <th>src_segment</th>\n      <th>dest_label</th>\n      <th>dest_segment</th>\n      <th>operation</th>\n    </tr>\n  </thead>\n  <tbody>\n    <tr>\n      <th>0</th>\n      <td>0</td>\n      <td>70287@2</td>\n      <td>https://raw.githubusercontent.com/statsbomb/op...</td>\n      <td>cross</td>\n      <td>[2454.7682, 2456.7682]</td>\n      <td>NaN</td>\n      <td>NaN</td>\n      <td>delete</td>\n    </tr>\n    <tr>\n      <th>1</th>\n      <td>1</td>\n      <td>70287@2</td>\n      <td>https://raw.githubusercontent.com/statsbomb/op...</td>\n      <td>goal</td>\n      <td>[2457, 2459]</td>\n      <td>goal</td>\n      <td>[2452.0, 2454.0]</td>\n      <td>edit</td>\n    </tr>\n    <tr>\n      <th>2</th>\n      <td>2</td>\n      <td>70287@2</td>\n      <td>https://raw.githubusercontent.com/statsbomb/op...</td>\n      <td>footShot</td>\n      <td>[2455.5869076, 2457.5869076000004]</td>\n      <td>footShot</td>\n      <td>[2452.0, 2453.7]</td>\n      <td>edit</td>\n    </tr>\n    <tr>\n      <th>3</th>\n      <td>3</td>\n      <td>70287@2</td>\n      <td>https://raw.githubusercontent.com/statsbomb/op...</td>\n      <td>dribbled</td>\n      <td>[2453.2, 2455.2]</td>\n      <td>NaN</td>\n      <td>NaN</td>\n      <td>delete</td>\n    </tr>\n    <tr>\n      <th>4</th>\n      <td>4</td>\n      <td>19791@2</td>\n      <td>https://raw.githubusercontent.com/statsbomb/op...</td>\n      <td>backheel</td>\n      <td>[7599.63255, 7601.632549999999]</td>\n      <td>backheel</td>\n      <td>[7599.6, 7601.1]</td>\n      <td>edit</td>\n    </tr>\n    <tr>\n      <th>...</th>\n      <td>...</td>\n      <td>...</td>\n      <td>...</td>\n      <td>...</td>\n      <td>...</td>\n      <td>...</td>\n      <td>...</td>\n      <td>...</td>\n    </tr>\n    <tr>\n      <th>70</th>\n      <td>70</td>\n      <td>265857@2</td>\n      <td>NaN</td>\n      <td>NaN</td>\n      <td>NaN</td>\n      <td>save</td>\n      <td>[4163.0, 4165.0]</td>\n      <td>add</td>\n    </tr>\n    <tr>\n      <th>71</th>\n      <td>71</td>\n      <td>16131@2</td>\n      <td>https://raw.githubusercontent.com/statsbomb/op...</td>\n      <td>footShot</td>\n      <td>[5772.357416, 5774.357416]</td>\n      <td>footShot</td>\n      <td>[5774.0, 5776.0]</td>\n      <td>edit</td>\n    </tr>\n    <tr>\n      <th>72</th>\n      <td>72</td>\n      <td>zet5dC15@1</td>\n      <td>https://raw.githubusercontent.com/statsbomb/op...</td>\n      <td>badBehavior</td>\n      <td>[2889.4, 2891.4]</td>\n      <td>NaN</td>\n      <td>NaN</td>\n      <td>delete</td>\n    </tr>\n    <tr>\n      <th>73</th>\n      <td>73</td>\n      <td>zet5dC15@1</td>\n      <td>https://raw.githubusercontent.com/statsbomb/op...</td>\n      <td>card</td>\n      <td>[2892, 2894]</td>\n      <td>NaN</td>\n      <td>NaN</td>\n      <td>delete</td>\n    </tr>\n    <tr>\n      <th>74</th>\n      <td>74</td>\n      <td>zet5dC15@1</td>\n      <td>https://raw.githubusercontent.com/statsbomb/op...</td>\n      <td>finalWhistle</td>\n      <td>[2894, 2896]</td>\n      <td>NaN</td>\n      <td>NaN</td>\n      <td>delete</td>\n    </tr>\n  </tbody>\n</table>\n<p>267 rows × 8 columns</p>\n</div>"
     },
     "execution_count": 21,
     "metadata": {},
     "output_type": "execute_result"
    }
   ],
   "source": [
    "df = pd.concat([r2plus1_df, slowfast_df, csn_df])\n",
    "df"
   ],
   "metadata": {
    "collapsed": false,
    "pycharm": {
     "name": "#%%\n"
    }
   }
  },
  {
   "cell_type": "code",
   "execution_count": 20,
   "outputs": [
    {
     "data": {
      "text/plain": "Empty DataFrame\nColumns: [period_id, count]\nIndex: []",
      "text/html": "<div>\n<style scoped>\n    .dataframe tbody tr th:only-of-type {\n        vertical-align: middle;\n    }\n\n    .dataframe tbody tr th {\n        vertical-align: top;\n    }\n\n    .dataframe thead th {\n        text-align: right;\n    }\n</style>\n<table border=\"1\" class=\"dataframe\">\n  <thead>\n    <tr style=\"text-align: right;\">\n      <th></th>\n      <th>period_id</th>\n      <th>count</th>\n    </tr>\n  </thead>\n  <tbody>\n  </tbody>\n</table>\n</div>"
     },
     "execution_count": 20,
     "metadata": {},
     "output_type": "execute_result"
    }
   ],
   "source": [
    "df_gr = df.groupby(['period_id'])['period_id']\\\n",
    "    .count()\\\n",
    "    .reset_index(name='count') \\\n",
    "    .sort_values(['count'], ascending=False)"
   ],
   "metadata": {
    "collapsed": false,
    "pycharm": {
     "name": "#%%\n"
    }
   }
  },
  {
   "cell_type": "code",
   "execution_count": 27,
   "outputs": [
    {
     "data": {
      "text/plain": "       src_label  count\n23          save     32\n11      footShot     30\n7          cross     14\n13      freeKick     10\n16    headerShot     10\n25   throughBall     10\n3          block     10\n4           card     10\n12          foul      8\n9       dribbled      7\n22         punch      7\n14          goal      7\n6         corner      6\n8      deflected      5\n15      handball      5\n5      collected      4\n26       throwIn      3\n1       backheel      3\n2    badBehavior      3\n18  interception      2\n19       kickOff      2\n17        injury      1\n20        nutmeg      1\n21       overrun      1\n10  finalWhistle      1\n24        shield      1\n0          50-50      1",
      "text/html": "<div>\n<style scoped>\n    .dataframe tbody tr th:only-of-type {\n        vertical-align: middle;\n    }\n\n    .dataframe tbody tr th {\n        vertical-align: top;\n    }\n\n    .dataframe thead th {\n        text-align: right;\n    }\n</style>\n<table border=\"1\" class=\"dataframe\">\n  <thead>\n    <tr style=\"text-align: right;\">\n      <th></th>\n      <th>src_label</th>\n      <th>count</th>\n    </tr>\n  </thead>\n  <tbody>\n    <tr>\n      <th>23</th>\n      <td>save</td>\n      <td>32</td>\n    </tr>\n    <tr>\n      <th>11</th>\n      <td>footShot</td>\n      <td>30</td>\n    </tr>\n    <tr>\n      <th>7</th>\n      <td>cross</td>\n      <td>14</td>\n    </tr>\n    <tr>\n      <th>13</th>\n      <td>freeKick</td>\n      <td>10</td>\n    </tr>\n    <tr>\n      <th>16</th>\n      <td>headerShot</td>\n      <td>10</td>\n    </tr>\n    <tr>\n      <th>25</th>\n      <td>throughBall</td>\n      <td>10</td>\n    </tr>\n    <tr>\n      <th>3</th>\n      <td>block</td>\n      <td>10</td>\n    </tr>\n    <tr>\n      <th>4</th>\n      <td>card</td>\n      <td>10</td>\n    </tr>\n    <tr>\n      <th>12</th>\n      <td>foul</td>\n      <td>8</td>\n    </tr>\n    <tr>\n      <th>9</th>\n      <td>dribbled</td>\n      <td>7</td>\n    </tr>\n    <tr>\n      <th>22</th>\n      <td>punch</td>\n      <td>7</td>\n    </tr>\n    <tr>\n      <th>14</th>\n      <td>goal</td>\n      <td>7</td>\n    </tr>\n    <tr>\n      <th>6</th>\n      <td>corner</td>\n      <td>6</td>\n    </tr>\n    <tr>\n      <th>8</th>\n      <td>deflected</td>\n      <td>5</td>\n    </tr>\n    <tr>\n      <th>15</th>\n      <td>handball</td>\n      <td>5</td>\n    </tr>\n    <tr>\n      <th>5</th>\n      <td>collected</td>\n      <td>4</td>\n    </tr>\n    <tr>\n      <th>26</th>\n      <td>throwIn</td>\n      <td>3</td>\n    </tr>\n    <tr>\n      <th>1</th>\n      <td>backheel</td>\n      <td>3</td>\n    </tr>\n    <tr>\n      <th>2</th>\n      <td>badBehavior</td>\n      <td>3</td>\n    </tr>\n    <tr>\n      <th>18</th>\n      <td>interception</td>\n      <td>2</td>\n    </tr>\n    <tr>\n      <th>19</th>\n      <td>kickOff</td>\n      <td>2</td>\n    </tr>\n    <tr>\n      <th>17</th>\n      <td>injury</td>\n      <td>1</td>\n    </tr>\n    <tr>\n      <th>20</th>\n      <td>nutmeg</td>\n      <td>1</td>\n    </tr>\n    <tr>\n      <th>21</th>\n      <td>overrun</td>\n      <td>1</td>\n    </tr>\n    <tr>\n      <th>10</th>\n      <td>finalWhistle</td>\n      <td>1</td>\n    </tr>\n    <tr>\n      <th>24</th>\n      <td>shield</td>\n      <td>1</td>\n    </tr>\n    <tr>\n      <th>0</th>\n      <td>50-50</td>\n      <td>1</td>\n    </tr>\n  </tbody>\n</table>\n</div>"
     },
     "execution_count": 27,
     "metadata": {},
     "output_type": "execute_result"
    }
   ],
   "source": [
    "df_cls = df[df.operation == 'edit'].groupby(['src_label'])['src_label']\\\n",
    "    .count()\\\n",
    "    .reset_index(name='count') \\\n",
    "    .sort_values(['count'], ascending=False)\n",
    "\n",
    "df_cls"
   ],
   "metadata": {
    "collapsed": false,
    "pycharm": {
     "name": "#%%\n"
    }
   }
  }
 ],
 "metadata": {
  "kernelspec": {
   "display_name": "Python 3",
   "language": "python",
   "name": "python3"
  },
  "language_info": {
   "codemirror_mode": {
    "name": "ipython",
    "version": 2
   },
   "file_extension": ".py",
   "mimetype": "text/x-python",
   "name": "python",
   "nbconvert_exporter": "python",
   "pygments_lexer": "ipython2",
   "version": "2.7.6"
  }
 },
 "nbformat": 4,
 "nbformat_minor": 0
}